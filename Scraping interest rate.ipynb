{
 "cells": [
  {
   "cell_type": "code",
   "execution_count": 1,
   "metadata": {
    "collapsed": true
   },
   "outputs": [],
   "source": [
    "import urllib3\n",
    "from bs4 import BeautifulSoup\n",
    "\n",
    "http = urllib3.PoolManager()"
   ]
  },
  {
   "cell_type": "code",
   "execution_count": 4,
   "metadata": {
    "collapsed": false
   },
   "outputs": [
    {
     "name": "stdout",
     "output_type": "stream",
     "text": [
      "August 2017 3.82 %\n",
      "July 2017 3.88 %\n",
      "June 2017 4.37 %\n",
      "May 2017 4.33 %\n",
      "April 2017 4.17 %\n",
      "March 2017 3.61 %\n",
      "February 2017 3.83 %\n",
      "January 2017 3.49 %\n",
      "December 2016 3.02 %\n",
      "November 2016 3.58 %\n",
      "October 2016 3.31 %\n",
      "September 2016 3.07 %\n",
      "August 2016 2.79 %\n",
      "July 2016 3.21 %\n",
      "June 2016 3.45 %\n",
      "May 2016 3.33 %\n",
      "April 2016 3.60 %\n",
      "March 2016 4.45 %\n",
      "February 2016 4.42 %\n",
      "January 2016 4.14 %\n"
     ]
    }
   ],
   "source": [
    "res = http.request('GET', 'http://www.bi.go.id/en/moneter/inflasi/data/Default.aspx')\n",
    "soup = BeautifulSoup(res.data, 'lxml')\n",
    "\n",
    "table = soup.find('table', attrs={'class':'table1'})\n",
    "\n",
    "tr = table.find_all('tr')\n",
    "\n",
    "for i in range(1, len(tr)):\n",
    "    row = table.find_all('tr')[i]\n",
    "    \n",
    "    #get bulan\n",
    "    bulan = row.find_all('td')[0].text\n",
    "    bulan = bulan.strip()\n",
    "    \n",
    "    #get inflasi\n",
    "    angka = row.find_all('td')[1].text\n",
    "    angka = angka.strip()\n",
    "    \n",
    "    print(bulan + ' ' + angka)"
   ]
  }
 ],
 "metadata": {
  "kernelspec": {
   "display_name": "Python 3",
   "language": "python",
   "name": "python3"
  },
  "language_info": {
   "codemirror_mode": {
    "name": "ipython",
    "version": 3
   },
   "file_extension": ".py",
   "mimetype": "text/x-python",
   "name": "python",
   "nbconvert_exporter": "python",
   "pygments_lexer": "ipython3",
   "version": "3.6.0"
  }
 },
 "nbformat": 4,
 "nbformat_minor": 2
}
